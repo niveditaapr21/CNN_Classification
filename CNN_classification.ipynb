{
  "cells": [
    {
      "cell_type": "markdown",
      "source": [
        "### Solution 2"
      ],
      "metadata": {
        "id": "pgb39kX39Pa6"
      }
    },
    {
      "cell_type": "code",
      "execution_count": null,
      "metadata": {
        "id": "aF1qQZRuVzmB",
        "colab": {
          "base_uri": "https://localhost:8080/"
        },
        "outputId": "c4a66e24-9017-4407-f519-e450f6ec9499"
      },
      "outputs": [
        {
          "output_type": "stream",
          "name": "stdout",
          "text": [
            "Drive already mounted at /content/drive; to attempt to forcibly remount, call drive.mount(\"/content/drive\", force_remount=True).\n"
          ]
        }
      ],
      "source": [
        "import tensorflow as tf\n",
        "from tensorflow.keras import datasets, layers, models\n",
        "import matplotlib.pyplot as plt\n",
        "import numpy as np\n",
        "from google.colab import drive\n",
        "drive.mount('/content/drive')"
      ]
    },
    {
      "cell_type": "code",
      "execution_count": null,
      "metadata": {
        "colab": {
          "base_uri": "https://localhost:8080/"
        },
        "id": "1NAY7aUCXAyH",
        "outputId": "c7e51d74-4a6c-4272-90aa-557a43289e3e"
      },
      "outputs": [
        {
          "output_type": "stream",
          "name": "stdout",
          "text": [
            "Downloading data from https://www.cs.toronto.edu/~kriz/cifar-10-python.tar.gz\n",
            "170498071/170498071 [==============================] - 11s 0us/step\n"
          ]
        },
        {
          "output_type": "execute_result",
          "data": {
            "text/plain": [
              "(50000, 1)"
            ]
          },
          "metadata": {},
          "execution_count": 2
        }
      ],
      "source": [
        "(X_train, y_train), (X_test,y_test) = datasets.cifar10.load_data()\n",
        "y_train.shape"
      ]
    },
    {
      "cell_type": "code",
      "source": [
        "X_train.shape"
      ],
      "metadata": {
        "colab": {
          "base_uri": "https://localhost:8080/"
        },
        "id": "Q6p1f2YZ1yEK",
        "outputId": "99888600-4551-4852-8150-e9095c4a6010"
      },
      "execution_count": null,
      "outputs": [
        {
          "output_type": "execute_result",
          "data": {
            "text/plain": [
              "(50000, 32, 32, 3)"
            ]
          },
          "metadata": {},
          "execution_count": 3
        }
      ]
    },
    {
      "cell_type": "code",
      "source": [
        "X_test.shape"
      ],
      "metadata": {
        "colab": {
          "base_uri": "https://localhost:8080/"
        },
        "id": "3XuxPdPv11Tj",
        "outputId": "4af5b40c-bc02-48ca-f22b-c705abfaf13c"
      },
      "execution_count": null,
      "outputs": [
        {
          "output_type": "execute_result",
          "data": {
            "text/plain": [
              "(10000, 32, 32, 3)"
            ]
          },
          "metadata": {},
          "execution_count": 4
        }
      ]
    },
    {
      "cell_type": "code",
      "execution_count": null,
      "metadata": {
        "id": "izJdsgp3YPpb",
        "colab": {
          "base_uri": "https://localhost:8080/"
        },
        "outputId": "f47eb320-dacb-4f41-bb01-4e98f1eb812a"
      },
      "outputs": [
        {
          "output_type": "execute_result",
          "data": {
            "text/plain": [
              "array([6, 9, 9, 4, 1], dtype=uint8)"
            ]
          },
          "metadata": {},
          "execution_count": 5
        }
      ],
      "source": [
        "y_train = y_train.reshape(-1,)\n",
        "y_test = y_test.reshape(-1,)\n",
        "classes = [\"airplane\",\"automobile\",\"bird\",\"cat\",\"deer\",\"dog\",\"frog\",\"horse\",\"ship\",\"truck\"]\n",
        "y_train[:5]"
      ]
    },
    {
      "cell_type": "code",
      "execution_count": null,
      "metadata": {
        "colab": {
          "base_uri": "https://localhost:8080/",
          "height": 237
        },
        "id": "s7LOlPv6YhKe",
        "outputId": "fdc1f9eb-94ea-40eb-eaab-5f98bc0b288b"
      },
      "outputs": [
        {
          "output_type": "display_data",
          "data": {
            "text/plain": [
              "<Figure size 1500x200 with 1 Axes>"
            ],
            "image/png": "[encoded data removed]"
          },
          "metadata": {}
        }
      ],
      "source": [
        "def plot_sample(X, y, index):\n",
        "    plt.figure(figsize = (15,2))\n",
        "    plt.imshow(X[index])\n",
        "    plt.xlabel(classes[y[index]])\n",
        "plot_sample(X_train, y_train, 0)"
      ]
    },
    {
      "cell_type": "code",
      "execution_count": null,
      "metadata": {
        "id": "PuynmqF7Y04_"
      },
      "outputs": [],
      "source": [
        "X_train = X_train / 255.0\n",
        "X_test = X_test / 255.0"
      ]
    },
    {
      "cell_type": "markdown",
      "source": [
        "# Custom CNN with conv, sigmoid, pooling and fc layers:\n"
      ],
      "metadata": {
        "id": "aDDGcKvl9XAx"
      }
    },
    {
      "cell_type": "code",
      "execution_count": null,
      "metadata": {
        "id": "eU_BAf1cY5ls"
      },
      "outputs": [],
      "source": [
        "cnn = models.Sequential()\n",
        "# Convolutional layers\n",
        "cnn.add(layers.Conv2D(32, (3, 3), activation='sigmoid', input_shape=(32, 32, 3)))\n",
        "cnn.add(layers.MaxPooling2D((2, 2)))\n",
        "cnn.add(layers.Conv2D(64, (3, 3), activation='sigmoid'))\n",
        "cnn.add(layers.MaxPooling2D((2, 2)))\n",
        "cnn.add(layers.Conv2D(64, (3, 3), activation='sigmoid'))\n",
        "cnn.add(layers.MaxPooling2D((2, 2)))\n",
        "\n",
        "# Flatten layer to transition from convolutional to fully connected layers\n",
        "cnn.add(layers.Flatten())\n",
        "\n",
        "# Fully connected layers\n",
        "cnn.add(layers.Dense(64, activation='sigmoid'))\n",
        "cnn.add(layers.Dense(10, activation='softmax'))  # Output layer with 10 classes\n",
        "\n",
        "cnn.compile(optimizer='adam',\n",
        "              loss='sparse_categorical_crossentropy',\n",
        "              metrics=['accuracy'])\n"
      ]
    },
    {
      "cell_type": "code",
      "execution_count": null,
      "metadata": {
        "colab": {
          "base_uri": "https://localhost:8080/"
        },
        "id": "yE7BnT7bZoGe",
        "outputId": "8b1bf7d8-74d2-4b01-da94-2fa9fdb503e2"
      },
      "outputs": [
        {
          "output_type": "stream",
          "name": "stdout",
          "text": [
            "Epoch 1/10\n",
            "1563/1563 [==============================] - 75s 47ms/step - loss: 2.0608 - accuracy: 0.2287\n",
            "Epoch 2/10\n",
            "1563/1563 [==============================] - 72s 46ms/step - loss: 1.7242 - accuracy: 0.3745\n",
            "Epoch 3/10\n",
            "1563/1563 [==============================] - 72s 46ms/step - loss: 1.5810 - accuracy: 0.4281\n",
            "Epoch 4/10\n",
            "1563/1563 [==============================] - 75s 48ms/step - loss: 1.4918 - accuracy: 0.4614\n",
            "Epoch 5/10\n",
            "1563/1563 [==============================] - 74s 47ms/step - loss: 1.4250 - accuracy: 0.4882\n",
            "Epoch 6/10\n",
            "1563/1563 [==============================] - 74s 47ms/step - loss: 1.3706 - accuracy: 0.5066\n",
            "Epoch 7/10\n",
            "1563/1563 [==============================] - 72s 46ms/step - loss: 1.3227 - accuracy: 0.5270\n",
            "Epoch 8/10\n",
            "1563/1563 [==============================] - 72s 46ms/step - loss: 1.2749 - accuracy: 0.5437\n",
            "Epoch 9/10\n",
            "1563/1563 [==============================] - 72s 46ms/step - loss: 1.2351 - accuracy: 0.5570\n",
            "Epoch 10/10\n",
            "1563/1563 [==============================] - 74s 47ms/step - loss: 1.1923 - accuracy: 0.5740\n"
          ]
        },
        {
          "output_type": "execute_result",
          "data": {
            "text/plain": [
              "<keras.src.callbacks.History at 0x78a7d8b89ae0>"
            ]
          },
          "metadata": {},
          "execution_count": 9
        }
      ],
      "source": [
        "cnn.fit(X_train, y_train, epochs=10)"
      ]
    },
    {
      "cell_type": "code",
      "execution_count": null,
      "metadata": {
        "id": "mTX27QK6ZwZn",
        "colab": {
          "base_uri": "https://localhost:8080/"
        },
        "outputId": "2bcfc24c-c131-44b9-d99d-f457eb800715"
      },
      "outputs": [
        {
          "output_type": "stream",
          "name": "stdout",
          "text": [
            "313/313 [==============================] - 6s 17ms/step - loss: 1.2347 - accuracy: 0.5596\n",
            "313/313 [==============================] - 4s 12ms/step\n"
          ]
        }
      ],
      "source": [
        "cnn.evaluate(X_test,y_test)\n",
        "y_pred = cnn.predict(X_test)"
      ]
    },
    {
      "cell_type": "code",
      "execution_count": null,
      "metadata": {
        "id": "TKjeZLgCZ4hR",
        "colab": {
          "base_uri": "https://localhost:8080/"
        },
        "outputId": "ad5c3023-e192-4866-a7b8-1587b7a042ad"
      },
      "outputs": [
        {
          "output_type": "execute_result",
          "data": {
            "text/plain": [
              "[3, 1, 1, 0, 4]"
            ]
          },
          "metadata": {},
          "execution_count": 11
        }
      ],
      "source": [
        "y_classes = [np.argmax(element) for element in y_pred]\n",
        "y_classes[:5]"
      ]
    },
    {
      "cell_type": "code",
      "source": [
        "y_test[:5]"
      ],
      "metadata": {
        "colab": {
          "base_uri": "https://localhost:8080/"
        },
        "id": "sA5-fK_M9udZ",
        "outputId": "57825064-805c-43f0-c8f5-a34b374a01b7"
      },
      "execution_count": null,
      "outputs": [
        {
          "output_type": "execute_result",
          "data": {
            "text/plain": [
              "array([3, 8, 8, 0, 6], dtype=uint8)"
            ]
          },
          "metadata": {},
          "execution_count": 12
        }
      ]
    },
    {
      "cell_type": "code",
      "execution_count": null,
      "metadata": {
        "id": "trXQjKKIZ_th",
        "colab": {
          "base_uri": "https://localhost:8080/",
          "height": 255
        },
        "outputId": "d5bd463d-3cad-464b-e3f3-cecd9b61d4f2"
      },
      "outputs": [
        {
          "output_type": "execute_result",
          "data": {
            "text/plain": [
              "'automobile'"
            ],
            "application/vnd.google.colaboratory.intrinsic+json": {
              "type": "string"
            }
          },
          "metadata": {},
          "execution_count": 13
        },
        {
          "output_type": "display_data",
          "data": {
            "text/plain": [
              "<Figure size 1500x200 with 1 Axes>"
            ],
            "image/png": "[encoded data removed]"
          },
          "metadata": {}
        }
      ],
      "source": [
        "plot_sample(X_test, y_test,1)\n",
        "classes[y_classes[1]]"
      ]
    },
    {
      "cell_type": "code",
      "source": [
        "test_loss_cnn, test_acc_cnn = cnn.evaluate(X_test, y_test)\n",
        "print(f'CNN Model - Test accuracy: {test_acc_cnn * 100:.2f}%')"
      ],
      "metadata": {
        "colab": {
          "base_uri": "https://localhost:8080/"
        },
        "id": "EgA7ZODhnndB",
        "outputId": "974f0483-3465-49cc-aeb3-c9f12a204b70"
      },
      "execution_count": null,
      "outputs": [
        {
          "output_type": "stream",
          "name": "stdout",
          "text": [
            "313/313 [==============================] - 5s 17ms/step - loss: 1.2347 - accuracy: 0.5596\n",
            "CNN Model - Test accuracy: 55.96%\n"
          ]
        }
      ]
    },
    {
      "cell_type": "code",
      "execution_count": null,
      "metadata": {
        "id": "ajJnE3ebaz6q",
        "colab": {
          "base_uri": "https://localhost:8080/"
        },
        "outputId": "b2025c25-62d6-45f0-daab-3c20c02d4fe6"
      },
      "outputs": [
        {
          "output_type": "stream",
          "name": "stdout",
          "text": [
            "Classification report: \n",
            "               precision    recall  f1-score   support\n",
            "\n",
            "           0       0.67      0.58      0.63      1000\n",
            "           1       0.75      0.60      0.67      1000\n",
            "           2       0.46      0.41      0.43      1000\n",
            "           3       0.40      0.41      0.40      1000\n",
            "           4       0.56      0.41      0.47      1000\n",
            "           5       0.46      0.55      0.50      1000\n",
            "           6       0.70      0.59      0.64      1000\n",
            "           7       0.52      0.71      0.60      1000\n",
            "           8       0.70      0.60      0.64      1000\n",
            "           9       0.52      0.74      0.61      1000\n",
            "\n",
            "    accuracy                           0.56     10000\n",
            "   macro avg       0.57      0.56      0.56     10000\n",
            "weighted avg       0.57      0.56      0.56     10000\n",
            "\n"
          ]
        }
      ],
      "source": [
        "from sklearn.metrics import classification_report\n",
        "print(\"Classification report: \\n\", classification_report(y_test, y_classes))"
      ]
    },
    {
      "cell_type": "markdown",
      "source": [
        "### CNN with ReLU Activation:"
      ],
      "metadata": {
        "id": "ZfNfg3XD-FvZ"
      }
    },
    {
      "cell_type": "code",
      "source": [
        "# Define the modified CNN model with ReLU activation\n",
        "model_relu = models.Sequential()\n",
        "\n",
        "# Convolutional layers with ReLU activation\n",
        "model_relu.add(layers.Conv2D(32, (3, 3), activation='relu', input_shape=(32, 32, 3)))\n",
        "model_relu.add(layers.MaxPooling2D((2, 2)))\n",
        "model_relu.add(layers.Conv2D(64, (3, 3), activation='relu'))\n",
        "model_relu.add(layers.MaxPooling2D((2, 2)))\n",
        "model_relu.add(layers.Conv2D(64, (3, 3), activation='relu'))\n",
        "model_relu.add(layers.MaxPooling2D((2, 2)))\n",
        "\n",
        "# Flatten layer to transition from convolutional to fully connected layers\n",
        "model_relu.add(layers.Flatten())\n",
        "\n",
        "# Fully connected layers with ReLU activation\n",
        "model_relu.add(layers.Dense(64, activation='relu'))\n",
        "model_relu.add(layers.Dense(10, activation='softmax'))  # Output layer with 10 classes\n",
        "\n",
        "# Compile the model\n",
        "model_relu.compile(optimizer='adam',\n",
        "                   loss='sparse_categorical_crossentropy',\n",
        "                   metrics=['accuracy'])\n",
        "\n",
        "# Train the model\n",
        "model_relu.fit(X_train, y_train, epochs=10)\n",
        "\n",
        "# Evaluate the model on the test data\n",
        "test_loss_relu, test_acc_relu = model_relu.evaluate(X_test, y_test)\n",
        "print(f'ReLU Model - Test accuracy: {test_acc_relu * 100:.2f}%')"
      ],
      "metadata": {
        "colab": {
          "base_uri": "https://localhost:8080/"
        },
        "id": "tlOg-4psfUkP",
        "outputId": "816b6f2a-4509-4555-b79c-6a452eeb3279"
      },
      "execution_count": null,
      "outputs": [
        {
          "output_type": "stream",
          "name": "stdout",
          "text": [
            "Epoch 1/10\n",
            "1563/1563 [==============================] - 68s 43ms/step - loss: 1.5476 - accuracy: 0.4350\n",
            "Epoch 2/10\n",
            "1563/1563 [==============================] - 68s 44ms/step - loss: 1.1965 - accuracy: 0.5780\n",
            "Epoch 3/10\n",
            "1563/1563 [==============================] - 65s 42ms/step - loss: 1.0549 - accuracy: 0.6282\n",
            "Epoch 4/10\n",
            "1563/1563 [==============================] - 67s 43ms/step - loss: 0.9614 - accuracy: 0.6634\n",
            "Epoch 5/10\n",
            "1563/1563 [==============================] - 67s 43ms/step - loss: 0.8872 - accuracy: 0.6920\n",
            "Epoch 6/10\n",
            "1563/1563 [==============================] - 65s 42ms/step - loss: 0.8344 - accuracy: 0.7085\n",
            "Epoch 7/10\n",
            "1563/1563 [==============================] - 66s 42ms/step - loss: 0.7886 - accuracy: 0.7236\n",
            "Epoch 8/10\n",
            "1563/1563 [==============================] - 67s 43ms/step - loss: 0.7452 - accuracy: 0.7401\n",
            "Epoch 9/10\n",
            "1563/1563 [==============================] - 67s 43ms/step - loss: 0.7111 - accuracy: 0.7498\n",
            "Epoch 10/10\n",
            "1563/1563 [==============================] - 65s 42ms/step - loss: 0.6767 - accuracy: 0.7622\n",
            "313/313 [==============================] - 4s 12ms/step - loss: 0.8834 - accuracy: 0.7018\n",
            "ReLU Model - Test accuracy: 70.18%\n"
          ]
        }
      ]
    },
    {
      "cell_type": "markdown",
      "source": [
        "### 2(b). Test on additional_test_data (Sigmoid Activation):"
      ],
      "metadata": {
        "id": "HEI7Yjx3-RSH"
      }
    },
    {
      "cell_type": "code",
      "source": [
        "x_additional_test = np.load('/content/drive/MyDrive/dataset/test_additional.npy')\n",
        "y_additional_test = np.load('/content/drive/MyDrive/dataset/labels.npy')\n",
        "print(y_additional_test.shape)\n",
        "print(x_additional_test.shape)\n",
        "print(y_additional_test[:5])\n",
        "x_additional_test = x_additional_test / 255.0"
      ],
      "metadata": {
        "colab": {
          "base_uri": "https://localhost:8080/"
        },
        "id": "FmSXU6bR9ztC",
        "outputId": "694cd40c-ed9f-4058-ae8d-50974cf22d94"
      },
      "execution_count": null,
      "outputs": [
        {
          "output_type": "stream",
          "name": "stdout",
          "text": [
            "(10000,)\n",
            "(10000, 32, 32, 3)\n",
            "[3 8 8 0 6]\n"
          ]
        }
      ]
    },
    {
      "cell_type": "code",
      "source": [
        "additional_test_loss, additional_test_acc = cnn.evaluate(x_additional_test, y_additional_test)\n",
        "print(f'Additional Test accuracy: {additional_test_acc}')"
      ],
      "metadata": {
        "colab": {
          "base_uri": "https://localhost:8080/"
        },
        "id": "BjTWKaVDdDU9",
        "outputId": "d1f9ad35-844c-4e51-81fa-8e3575cc6d0f"
      },
      "execution_count": null,
      "outputs": [
        {
          "output_type": "stream",
          "name": "stdout",
          "text": [
            "313/313 [==============================] - 5s 16ms/step - loss: 1.2570 - accuracy: 0.5508\n",
            "Additional Test accuracy: 0.5508000254631042\n"
          ]
        }
      ]
    },
    {
      "cell_type": "code",
      "source": [
        "y_additional_pred = cnn.predict(x_additional_test)\n",
        "y_additional_classes = [np.argmax(element) for element in y_additional_pred]\n",
        "print(\"Classification report: \\n\", classification_report(y_additional_test, y_additional_classes))"
      ],
      "metadata": {
        "colab": {
          "base_uri": "https://localhost:8080/"
        },
        "id": "7ovVwTvn_wN7",
        "outputId": "895c5e82-d2b2-40ee-e141-36a4ff4dc580"
      },
      "execution_count": null,
      "outputs": [
        {
          "output_type": "stream",
          "name": "stdout",
          "text": [
            "313/313 [==============================] - 4s 12ms/step\n",
            "Classification report: \n",
            "               precision    recall  f1-score   support\n",
            "\n",
            "           0       0.66      0.57      0.61      1000\n",
            "           1       0.74      0.60      0.67      1000\n",
            "           2       0.44      0.39      0.41      1000\n",
            "           3       0.39      0.37      0.38      1000\n",
            "           4       0.58      0.40      0.47      1000\n",
            "           5       0.46      0.56      0.50      1000\n",
            "           6       0.66      0.59      0.62      1000\n",
            "           7       0.51      0.71      0.60      1000\n",
            "           8       0.68      0.58      0.62      1000\n",
            "           9       0.51      0.75      0.61      1000\n",
            "\n",
            "    accuracy                           0.55     10000\n",
            "   macro avg       0.56      0.55      0.55     10000\n",
            "weighted avg       0.56      0.55      0.55     10000\n",
            "\n"
          ]
        }
      ]
    },
    {
      "cell_type": "markdown",
      "source": [
        "### Test on additional_test_data (ReLU Activation):"
      ],
      "metadata": {
        "id": "h_AvHob3-hFF"
      }
    },
    {
      "cell_type": "code",
      "source": [
        "additional_test_loss_Relu, additional_test_acc_Relu = model_relu.evaluate(x_additional_test, y_additional_test)\n",
        "print(f'Additional Test accuracy: {additional_test_acc_Relu}')"
      ],
      "metadata": {
        "colab": {
          "base_uri": "https://localhost:8080/"
        },
        "id": "ovKantUkdLMv",
        "outputId": "3ab379d0-d61a-496f-b269-a2d870cbcf09"
      },
      "execution_count": null,
      "outputs": [
        {
          "output_type": "stream",
          "name": "stdout",
          "text": [
            "313/313 [==============================] - 8s 25ms/step - loss: 1.1816 - accuracy: 0.6058\n",
            "Additional Test accuracy: 0.6057999730110168\n"
          ]
        }
      ]
    },
    {
      "cell_type": "code",
      "source": [
        "y_additional_pred_Relu = model_relu.predict(x_additional_test)\n",
        "y_additional_classes_Relu = [np.argmax(element) for element in y_additional_pred]\n",
        "print(\"Classification report: \\n\", classification_report(y_additional_test, y_additional_classes_Relu))"
      ],
      "metadata": {
        "colab": {
          "base_uri": "https://localhost:8080/"
        },
        "id": "3al5lWJkdesp",
        "outputId": "a5958782-370a-4196-f323-6581aa57ea8c"
      },
      "execution_count": null,
      "outputs": [
        {
          "output_type": "stream",
          "name": "stdout",
          "text": [
            "313/313 [==============================] - 4s 12ms/step\n",
            "Classification report: \n",
            "               precision    recall  f1-score   support\n",
            "\n",
            "           0       0.66      0.57      0.61      1000\n",
            "           1       0.74      0.60      0.67      1000\n",
            "           2       0.44      0.39      0.41      1000\n",
            "           3       0.39      0.37      0.38      1000\n",
            "           4       0.58      0.40      0.47      1000\n",
            "           5       0.46      0.56      0.50      1000\n",
            "           6       0.66      0.59      0.62      1000\n",
            "           7       0.51      0.71      0.60      1000\n",
            "           8       0.68      0.58      0.62      1000\n",
            "           9       0.51      0.75      0.61      1000\n",
            "\n",
            "    accuracy                           0.55     10000\n",
            "   macro avg       0.56      0.55      0.55     10000\n",
            "weighted avg       0.56      0.55      0.55     10000\n",
            "\n"
          ]
        }
      ]
    },
    {
      "cell_type": "markdown",
      "metadata": {
        "id": "X9fH5To8V7Is"
      },
      "source": [
        "\n"
      ]
    }
  ],
  "metadata": {
    "colab": {
      "provenance": []
    },
    "kernelspec": {
      "display_name": "Python 3",
      "name": "python3"
    },
    "language_info": {
      "name": "python"
    }
  },
  "nbformat": 4,
  "nbformat_minor": 0
}